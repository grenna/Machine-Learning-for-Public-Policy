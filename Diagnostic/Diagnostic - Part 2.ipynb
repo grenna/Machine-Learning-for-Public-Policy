{
 "cells": [
  {
   "cell_type": "markdown",
   "metadata": {},
   "source": [
    "## Part 2"
   ]
  },
  {
   "cell_type": "code",
   "execution_count": 2,
   "metadata": {
    "collapsed": true
   },
   "outputs": [],
   "source": [
    "import pandas as pd\n",
    "import numpy as np\n",
    "import requests\n",
    "import matplotlib.pyplot as plt"
   ]
  },
  {
   "cell_type": "code",
   "execution_count": 3,
   "metadata": {
    "collapsed": false
   },
   "outputs": [],
   "source": [
    "sanitation_df = pd.read_csv('311_Service_Requests_-_Sanitation_Code_Complaints.csv')"
   ]
  },
  {
   "cell_type": "code",
   "execution_count": null,
   "metadata": {
    "collapsed": true
   },
   "outputs": [],
   "source": [
    "vacant_df = pd.read_csv('311_Service_Requests_-_Vacant_and_Abandoned_Buildings_Reported.csv')"
   ]
  },
  {
   "cell_type": "code",
   "execution_count": 9,
   "metadata": {
    "collapsed": true
   },
   "outputs": [],
   "source": [
    "def get_blocks(df):\n",
    "    '''\n",
    "    Given a data frame, append column with a FIPS block number\n",
    "    '''\n",
    "    blocks = []\n",
    "    for index, row in df.iterrows():\n",
    "        longitude = row['Longitude']\n",
    "        latitude = row['Latitude']\n",
    "        html = \"http://data.fcc.gov/api/block/find?format=json&latitude={latitude}&longitude={longitude}&showall=false\".format(latitude=latitude, longitude= longitude)\n",
    "        req = requests.get(html)\n",
    "        json = req.json()\n",
    "        FIPS_info = json['Block']['FIPS']\n",
    "        blocks.append(FIPS_info)\n",
    "    new_df = pd.DataFrame(blocks)\n",
    "    augmented_df = pd.concat([df, new_df], axis = 1)\n",
    "    augmented_df = augmented_df.rename(columns={0: 'Block_Number'})\n",
    "    \n",
    "    return augmented_df\n",
    "        "
   ]
  },
  {
   "cell_type": "code",
   "execution_count": 12,
   "metadata": {
    "collapsed": false
   },
   "outputs": [],
   "source": [
    "sanitation_df_blocks = get_blocks(sanitation_df[1:300])"
   ]
  },
  {
   "cell_type": "code",
   "execution_count": 13,
   "metadata": {
    "collapsed": false
   },
   "outputs": [
    {
     "data": {
      "text/html": [
       "<div>\n",
       "<table border=\"1\" class=\"dataframe\">\n",
       "  <thead>\n",
       "    <tr style=\"text-align: right;\">\n",
       "      <th></th>\n",
       "      <th>Creation Date</th>\n",
       "      <th>Status</th>\n",
       "      <th>Completion Date</th>\n",
       "      <th>Service Request Number</th>\n",
       "      <th>Type of Service Request</th>\n",
       "      <th>What is the Nature of this Code Violation?</th>\n",
       "      <th>Street Address</th>\n",
       "      <th>ZIP Code</th>\n",
       "      <th>X Coordinate</th>\n",
       "      <th>Y Coordinate</th>\n",
       "      <th>Ward</th>\n",
       "      <th>Police District</th>\n",
       "      <th>Community Area</th>\n",
       "      <th>Latitude</th>\n",
       "      <th>Longitude</th>\n",
       "      <th>Location</th>\n",
       "      <th>Block_Number</th>\n",
       "    </tr>\n",
       "  </thead>\n",
       "  <tbody>\n",
       "    <tr>\n",
       "      <th>0</th>\n",
       "      <td>NaN</td>\n",
       "      <td>NaN</td>\n",
       "      <td>NaN</td>\n",
       "      <td>NaN</td>\n",
       "      <td>NaN</td>\n",
       "      <td>NaN</td>\n",
       "      <td>NaN</td>\n",
       "      <td>NaN</td>\n",
       "      <td>NaN</td>\n",
       "      <td>NaN</td>\n",
       "      <td>NaN</td>\n",
       "      <td>NaN</td>\n",
       "      <td>NaN</td>\n",
       "      <td>NaN</td>\n",
       "      <td>NaN</td>\n",
       "      <td>NaN</td>\n",
       "      <td>170314402021006</td>\n",
       "    </tr>\n",
       "    <tr>\n",
       "      <th>1</th>\n",
       "      <td>01/02/2016</td>\n",
       "      <td>Completed</td>\n",
       "      <td>01/04/2016</td>\n",
       "      <td>16-00018850</td>\n",
       "      <td>Sanitation Code Violation</td>\n",
       "      <td>Dog feces in yard</td>\n",
       "      <td>8243 S ST LAWRENCE AVE</td>\n",
       "      <td>60619.0</td>\n",
       "      <td>1.181671e+06</td>\n",
       "      <td>1.850471e+06</td>\n",
       "      <td>6.0</td>\n",
       "      <td>6.0</td>\n",
       "      <td>44.0</td>\n",
       "      <td>41.744924</td>\n",
       "      <td>-87.609906</td>\n",
       "      <td>(41.74492409837845, -87.6099058679411)</td>\n",
       "      <td>170316112001003</td>\n",
       "    </tr>\n",
       "    <tr>\n",
       "      <th>2</th>\n",
       "      <td>01/02/2016</td>\n",
       "      <td>Completed</td>\n",
       "      <td>01/04/2016</td>\n",
       "      <td>16-00020369</td>\n",
       "      <td>Sanitation Code Violation</td>\n",
       "      <td>Garbage in yard</td>\n",
       "      <td>4748 S LOOMIS BLVD</td>\n",
       "      <td>60609.0</td>\n",
       "      <td>1.167798e+06</td>\n",
       "      <td>1.873266e+06</td>\n",
       "      <td>20.0</td>\n",
       "      <td>9.0</td>\n",
       "      <td>61.0</td>\n",
       "      <td>41.807785</td>\n",
       "      <td>-87.660083</td>\n",
       "      <td>(41.807785222553655, -87.66008284545259)</td>\n",
       "      <td>170312411002011</td>\n",
       "    </tr>\n",
       "    <tr>\n",
       "      <th>3</th>\n",
       "      <td>01/02/2016</td>\n",
       "      <td>Completed</td>\n",
       "      <td>01/05/2016</td>\n",
       "      <td>16-00016767</td>\n",
       "      <td>Sanitation Code Violation</td>\n",
       "      <td>Dumpster not being emptied</td>\n",
       "      <td>1442 N CAMPBELL AVE</td>\n",
       "      <td>60622.0</td>\n",
       "      <td>1.159478e+06</td>\n",
       "      <td>1.909510e+06</td>\n",
       "      <td>1.0</td>\n",
       "      <td>14.0</td>\n",
       "      <td>24.0</td>\n",
       "      <td>41.907417</td>\n",
       "      <td>-87.689603</td>\n",
       "      <td>(41.90741740180557, -87.68960322899117)</td>\n",
       "      <td>170315102001021</td>\n",
       "    </tr>\n",
       "    <tr>\n",
       "      <th>4</th>\n",
       "      <td>01/02/2016</td>\n",
       "      <td>Completed</td>\n",
       "      <td>01/05/2016</td>\n",
       "      <td>16-00018043</td>\n",
       "      <td>Sanitation Code Violation</td>\n",
       "      <td>Other</td>\n",
       "      <td>9839 S MANISTEE AVE</td>\n",
       "      <td>60617.0</td>\n",
       "      <td>1.196336e+06</td>\n",
       "      <td>1.840261e+06</td>\n",
       "      <td>10.0</td>\n",
       "      <td>4.0</td>\n",
       "      <td>51.0</td>\n",
       "      <td>41.716555</td>\n",
       "      <td>-87.556510</td>\n",
       "      <td>(41.71655465825793, -87.55651043905326)</td>\n",
       "      <td>170316504003018</td>\n",
       "    </tr>\n",
       "  </tbody>\n",
       "</table>\n",
       "</div>"
      ],
      "text/plain": [
       "  Creation Date     Status Completion Date Service Request Number  \\\n",
       "0           NaN        NaN             NaN                    NaN   \n",
       "1    01/02/2016  Completed      01/04/2016            16-00018850   \n",
       "2    01/02/2016  Completed      01/04/2016            16-00020369   \n",
       "3    01/02/2016  Completed      01/05/2016            16-00016767   \n",
       "4    01/02/2016  Completed      01/05/2016            16-00018043   \n",
       "\n",
       "     Type of Service Request What is the Nature of this Code Violation?  \\\n",
       "0                        NaN                                        NaN   \n",
       "1  Sanitation Code Violation                          Dog feces in yard   \n",
       "2  Sanitation Code Violation                            Garbage in yard   \n",
       "3  Sanitation Code Violation                 Dumpster not being emptied   \n",
       "4  Sanitation Code Violation                                      Other   \n",
       "\n",
       "           Street Address  ZIP Code  X Coordinate  Y Coordinate  Ward  \\\n",
       "0                     NaN       NaN           NaN           NaN   NaN   \n",
       "1  8243 S ST LAWRENCE AVE   60619.0  1.181671e+06  1.850471e+06   6.0   \n",
       "2      4748 S LOOMIS BLVD   60609.0  1.167798e+06  1.873266e+06  20.0   \n",
       "3     1442 N CAMPBELL AVE   60622.0  1.159478e+06  1.909510e+06   1.0   \n",
       "4     9839 S MANISTEE AVE   60617.0  1.196336e+06  1.840261e+06  10.0   \n",
       "\n",
       "   Police District  Community Area   Latitude  Longitude  \\\n",
       "0              NaN             NaN        NaN        NaN   \n",
       "1              6.0            44.0  41.744924 -87.609906   \n",
       "2              9.0            61.0  41.807785 -87.660083   \n",
       "3             14.0            24.0  41.907417 -87.689603   \n",
       "4              4.0            51.0  41.716555 -87.556510   \n",
       "\n",
       "                                   Location     Block_Number  \n",
       "0                                       NaN  170314402021006  \n",
       "1    (41.74492409837845, -87.6099058679411)  170316112001003  \n",
       "2  (41.807785222553655, -87.66008284545259)  170312411002011  \n",
       "3   (41.90741740180557, -87.68960322899117)  170315102001021  \n",
       "4   (41.71655465825793, -87.55651043905326)  170316504003018  "
      ]
     },
     "execution_count": 13,
     "metadata": {},
     "output_type": "execute_result"
    }
   ],
   "source": [
    "sanitation_df_blocks.head()"
   ]
  },
  {
   "cell_type": "markdown",
   "metadata": {},
   "source": [
    "Not entirely sure how to access API for information... "
   ]
  },
  {
   "cell_type": "code",
   "execution_count": null,
   "metadata": {
    "collapsed": false
   },
   "outputs": [],
   "source": []
  },
  {
   "cell_type": "code",
   "execution_count": null,
   "metadata": {
    "collapsed": true
   },
   "outputs": [],
   "source": []
  }
 ],
 "metadata": {
  "kernelspec": {
   "display_name": "Python 3",
   "language": "python",
   "name": "python3"
  },
  "language_info": {
   "codemirror_mode": {
    "name": "ipython",
    "version": 3
   },
   "file_extension": ".py",
   "mimetype": "text/x-python",
   "name": "python",
   "nbconvert_exporter": "python",
   "pygments_lexer": "ipython3",
   "version": "3.6.0"
  }
 },
 "nbformat": 4,
 "nbformat_minor": 2
}

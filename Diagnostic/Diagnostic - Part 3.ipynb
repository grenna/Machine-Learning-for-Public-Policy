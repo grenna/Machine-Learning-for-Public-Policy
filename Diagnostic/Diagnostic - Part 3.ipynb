{
 "cells": [
  {
   "cell_type": "markdown",
   "metadata": {},
   "source": [
    "## Diagnostic Part 3"
   ]
  },
  {
   "cell_type": "markdown",
   "metadata": {},
   "source": [
    "## Part a"
   ]
  },
  {
   "cell_type": "code",
   "execution_count": 4,
   "metadata": {
    "collapsed": true
   },
   "outputs": [],
   "source": [
    "import pandas as pd\n",
    "import numpy as np"
   ]
  },
  {
   "cell_type": "code",
   "execution_count": 3,
   "metadata": {
    "collapsed": false
   },
   "outputs": [],
   "source": [
    "# Graffity Dataset\n",
    "graffity_df = pd.read_csv('311_Service_Requests_-_Graffiti_Removal.csv')"
   ]
  },
  {
   "cell_type": "code",
   "execution_count": 6,
   "metadata": {
    "collapsed": false
   },
   "outputs": [
    {
     "data": {
      "text/html": [
       "<div>\n",
       "<table border=\"1\" class=\"dataframe\">\n",
       "  <thead>\n",
       "    <tr style=\"text-align: right;\">\n",
       "      <th></th>\n",
       "      <th>Creation Date</th>\n",
       "      <th>Status</th>\n",
       "      <th>Completion Date</th>\n",
       "      <th>Service Request Number</th>\n",
       "      <th>Type of Service Request</th>\n",
       "      <th>What Type of Surface is the Graffiti on?</th>\n",
       "      <th>Where is the Graffiti located?</th>\n",
       "      <th>Street Address</th>\n",
       "      <th>ZIP Code</th>\n",
       "      <th>X Coordinate</th>\n",
       "      <th>Y Coordinate</th>\n",
       "      <th>Ward</th>\n",
       "      <th>Police District</th>\n",
       "      <th>Community Area</th>\n",
       "      <th>SSA</th>\n",
       "      <th>Latitude</th>\n",
       "      <th>Longitude</th>\n",
       "      <th>Location</th>\n",
       "    </tr>\n",
       "  </thead>\n",
       "  <tbody>\n",
       "    <tr>\n",
       "      <th>0</th>\n",
       "      <td>09/02/2016</td>\n",
       "      <td>Completed</td>\n",
       "      <td>09/02/2016</td>\n",
       "      <td>16-06219390</td>\n",
       "      <td>Graffiti Removal</td>\n",
       "      <td>Cement (Sidewalk, Alley, Wall, Curb)</td>\n",
       "      <td>Front</td>\n",
       "      <td>917 N ELSTON AVE</td>\n",
       "      <td>60642.0</td>\n",
       "      <td>1.168480e+06</td>\n",
       "      <td>1.906511e+06</td>\n",
       "      <td>27.0</td>\n",
       "      <td>12.0</td>\n",
       "      <td>24.0</td>\n",
       "      <td>NaN</td>\n",
       "      <td>41.899002</td>\n",
       "      <td>-87.656474</td>\n",
       "      <td>(41.89900174269792, -87.65647358728224)</td>\n",
       "    </tr>\n",
       "    <tr>\n",
       "      <th>1</th>\n",
       "      <td>09/02/2016</td>\n",
       "      <td>Completed</td>\n",
       "      <td>09/02/2016</td>\n",
       "      <td>16-06219419</td>\n",
       "      <td>Graffiti Removal</td>\n",
       "      <td>Wood - Unpainted</td>\n",
       "      <td>Fence</td>\n",
       "      <td>911 N ELSTON AVE</td>\n",
       "      <td>60642.0</td>\n",
       "      <td>1.168483e+06</td>\n",
       "      <td>1.906430e+06</td>\n",
       "      <td>27.0</td>\n",
       "      <td>12.0</td>\n",
       "      <td>24.0</td>\n",
       "      <td>NaN</td>\n",
       "      <td>41.898779</td>\n",
       "      <td>-87.656468</td>\n",
       "      <td>(41.89877903468827, -87.65646849694056)</td>\n",
       "    </tr>\n",
       "  </tbody>\n",
       "</table>\n",
       "</div>"
      ],
      "text/plain": [
       "  Creation Date     Status Completion Date Service Request Number  \\\n",
       "0    09/02/2016  Completed      09/02/2016            16-06219390   \n",
       "1    09/02/2016  Completed      09/02/2016            16-06219419   \n",
       "\n",
       "  Type of Service Request What Type of Surface is the Graffiti on?  \\\n",
       "0        Graffiti Removal     Cement (Sidewalk, Alley, Wall, Curb)   \n",
       "1        Graffiti Removal                         Wood - Unpainted   \n",
       "\n",
       "  Where is the Graffiti located?    Street Address  ZIP Code  X Coordinate  \\\n",
       "0                          Front  917 N ELSTON AVE   60642.0  1.168480e+06   \n",
       "1                          Fence  911 N ELSTON AVE   60642.0  1.168483e+06   \n",
       "\n",
       "   Y Coordinate  Ward  Police District  Community Area  SSA   Latitude  \\\n",
       "0  1.906511e+06  27.0             12.0            24.0  NaN  41.899002   \n",
       "1  1.906430e+06  27.0             12.0            24.0  NaN  41.898779   \n",
       "\n",
       "   Longitude                                 Location  \n",
       "0 -87.656474  (41.89900174269792, -87.65647358728224)  \n",
       "1 -87.656468  (41.89877903468827, -87.65646849694056)  "
      ]
     },
     "execution_count": 6,
     "metadata": {},
     "output_type": "execute_result"
    }
   ],
   "source": [
    "graffity_df.head(2)"
   ]
  },
  {
   "cell_type": "code",
   "execution_count": 5,
   "metadata": {
    "collapsed": false
   },
   "outputs": [
    {
     "data": {
      "text/plain": [
       "(63386, 18)"
      ]
     },
     "execution_count": 5,
     "metadata": {},
     "output_type": "execute_result"
    }
   ],
   "source": [
    "graffity_df.shape"
   ]
  },
  {
   "cell_type": "markdown",
   "metadata": {},
   "source": [
    "What is the probability that a graffity call came from the the address 7500 S Wolcott Ave? Given that it's possible that the address isn't specified in this way in the data set, we will try different variations. "
   ]
  },
  {
   "cell_type": "code",
   "execution_count": 7,
   "metadata": {
    "collapsed": false
   },
   "outputs": [
    {
     "data": {
      "text/html": [
       "<div>\n",
       "<table border=\"1\" class=\"dataframe\">\n",
       "  <thead>\n",
       "    <tr style=\"text-align: right;\">\n",
       "      <th></th>\n",
       "      <th>Creation Date</th>\n",
       "      <th>Status</th>\n",
       "      <th>Completion Date</th>\n",
       "      <th>Service Request Number</th>\n",
       "      <th>Type of Service Request</th>\n",
       "      <th>What Type of Surface is the Graffiti on?</th>\n",
       "      <th>Where is the Graffiti located?</th>\n",
       "      <th>Street Address</th>\n",
       "      <th>ZIP Code</th>\n",
       "      <th>X Coordinate</th>\n",
       "      <th>Y Coordinate</th>\n",
       "      <th>Ward</th>\n",
       "      <th>Police District</th>\n",
       "      <th>Community Area</th>\n",
       "      <th>SSA</th>\n",
       "      <th>Latitude</th>\n",
       "      <th>Longitude</th>\n",
       "      <th>Location</th>\n",
       "    </tr>\n",
       "  </thead>\n",
       "  <tbody>\n",
       "  </tbody>\n",
       "</table>\n",
       "</div>"
      ],
      "text/plain": [
       "Empty DataFrame\n",
       "Columns: [Creation Date, Status, Completion Date, Service Request Number, Type of Service Request, What Type of Surface is the Graffiti on?, Where is the Graffiti located?, Street Address, ZIP Code, X Coordinate, Y Coordinate, Ward, Police District, Community Area, SSA, Latitude, Longitude, Location]\n",
       "Index: []"
      ]
     },
     "execution_count": 7,
     "metadata": {},
     "output_type": "execute_result"
    }
   ],
   "source": [
    "graffity_df[graffity_df['Street Address'] == '7500 S Wolcott Ave']"
   ]
  },
  {
   "cell_type": "code",
   "execution_count": 10,
   "metadata": {
    "collapsed": false
   },
   "outputs": [
    {
     "data": {
      "text/html": [
       "<div>\n",
       "<table border=\"1\" class=\"dataframe\">\n",
       "  <thead>\n",
       "    <tr style=\"text-align: right;\">\n",
       "      <th></th>\n",
       "      <th>Creation Date</th>\n",
       "      <th>Status</th>\n",
       "      <th>Completion Date</th>\n",
       "      <th>Service Request Number</th>\n",
       "      <th>Type of Service Request</th>\n",
       "      <th>What Type of Surface is the Graffiti on?</th>\n",
       "      <th>Where is the Graffiti located?</th>\n",
       "      <th>Street Address</th>\n",
       "      <th>ZIP Code</th>\n",
       "      <th>X Coordinate</th>\n",
       "      <th>Y Coordinate</th>\n",
       "      <th>Ward</th>\n",
       "      <th>Police District</th>\n",
       "      <th>Community Area</th>\n",
       "      <th>SSA</th>\n",
       "      <th>Latitude</th>\n",
       "      <th>Longitude</th>\n",
       "      <th>Location</th>\n",
       "    </tr>\n",
       "  </thead>\n",
       "  <tbody>\n",
       "  </tbody>\n",
       "</table>\n",
       "</div>"
      ],
      "text/plain": [
       "Empty DataFrame\n",
       "Columns: [Creation Date, Status, Completion Date, Service Request Number, Type of Service Request, What Type of Surface is the Graffiti on?, Where is the Graffiti located?, Street Address, ZIP Code, X Coordinate, Y Coordinate, Ward, Police District, Community Area, SSA, Latitude, Longitude, Location]\n",
       "Index: []"
      ]
     },
     "execution_count": 10,
     "metadata": {},
     "output_type": "execute_result"
    }
   ],
   "source": [
    "graffity_df[graffity_df['Street Address'] == '7500 S WOLCOTT AVE']"
   ]
  },
  {
   "cell_type": "markdown",
   "metadata": {},
   "source": [
    "Given that the address does not appear in the dataset, the probability that a graffiti call came from this address is 0. "
   ]
  },
  {
   "cell_type": "code",
   "execution_count": 11,
   "metadata": {
    "collapsed": true
   },
   "outputs": [],
   "source": [
    "# Sanitation Dataset\n",
    "sanitation_df = pd.read_csv('311_Service_Requests_-_Sanitation_Code_Complaints.csv')"
   ]
  },
  {
   "cell_type": "code",
   "execution_count": 12,
   "metadata": {
    "collapsed": false
   },
   "outputs": [
    {
     "data": {
      "text/html": [
       "<div>\n",
       "<table border=\"1\" class=\"dataframe\">\n",
       "  <thead>\n",
       "    <tr style=\"text-align: right;\">\n",
       "      <th></th>\n",
       "      <th>Creation Date</th>\n",
       "      <th>Status</th>\n",
       "      <th>Completion Date</th>\n",
       "      <th>Service Request Number</th>\n",
       "      <th>Type of Service Request</th>\n",
       "      <th>What is the Nature of this Code Violation?</th>\n",
       "      <th>Street Address</th>\n",
       "      <th>ZIP Code</th>\n",
       "      <th>X Coordinate</th>\n",
       "      <th>Y Coordinate</th>\n",
       "      <th>Ward</th>\n",
       "      <th>Police District</th>\n",
       "      <th>Community Area</th>\n",
       "      <th>Latitude</th>\n",
       "      <th>Longitude</th>\n",
       "      <th>Location</th>\n",
       "    </tr>\n",
       "  </thead>\n",
       "  <tbody>\n",
       "    <tr>\n",
       "      <th>0</th>\n",
       "      <td>01/02/2016</td>\n",
       "      <td>Completed</td>\n",
       "      <td>01/04/2016</td>\n",
       "      <td>16-00015398</td>\n",
       "      <td>Sanitation Code Violation</td>\n",
       "      <td>Other</td>\n",
       "      <td>6959 S PAXTON AVE</td>\n",
       "      <td>60649.0</td>\n",
       "      <td>1.192081e+06</td>\n",
       "      <td>1.859250e+06</td>\n",
       "      <td>5.0</td>\n",
       "      <td>3.0</td>\n",
       "      <td>43.0</td>\n",
       "      <td>41.768766</td>\n",
       "      <td>-87.571478</td>\n",
       "      <td>(41.768766169704875, -87.57147751207171)</td>\n",
       "    </tr>\n",
       "    <tr>\n",
       "      <th>1</th>\n",
       "      <td>01/02/2016</td>\n",
       "      <td>Completed</td>\n",
       "      <td>01/04/2016</td>\n",
       "      <td>16-00018850</td>\n",
       "      <td>Sanitation Code Violation</td>\n",
       "      <td>Dog feces in yard</td>\n",
       "      <td>8243 S ST LAWRENCE AVE</td>\n",
       "      <td>60619.0</td>\n",
       "      <td>1.181671e+06</td>\n",
       "      <td>1.850471e+06</td>\n",
       "      <td>6.0</td>\n",
       "      <td>6.0</td>\n",
       "      <td>44.0</td>\n",
       "      <td>41.744924</td>\n",
       "      <td>-87.609906</td>\n",
       "      <td>(41.74492409837845, -87.6099058679411)</td>\n",
       "    </tr>\n",
       "  </tbody>\n",
       "</table>\n",
       "</div>"
      ],
      "text/plain": [
       "  Creation Date     Status Completion Date Service Request Number  \\\n",
       "0    01/02/2016  Completed      01/04/2016            16-00015398   \n",
       "1    01/02/2016  Completed      01/04/2016            16-00018850   \n",
       "\n",
       "     Type of Service Request What is the Nature of this Code Violation?  \\\n",
       "0  Sanitation Code Violation                                      Other   \n",
       "1  Sanitation Code Violation                          Dog feces in yard   \n",
       "\n",
       "           Street Address  ZIP Code  X Coordinate  Y Coordinate  Ward  \\\n",
       "0       6959 S PAXTON AVE   60649.0  1.192081e+06  1.859250e+06   5.0   \n",
       "1  8243 S ST LAWRENCE AVE   60619.0  1.181671e+06  1.850471e+06   6.0   \n",
       "\n",
       "   Police District  Community Area   Latitude  Longitude  \\\n",
       "0              3.0            43.0  41.768766 -87.571478   \n",
       "1              6.0            44.0  41.744924 -87.609906   \n",
       "\n",
       "                                   Location  \n",
       "0  (41.768766169704875, -87.57147751207171)  \n",
       "1    (41.74492409837845, -87.6099058679411)  "
      ]
     },
     "execution_count": 12,
     "metadata": {},
     "output_type": "execute_result"
    }
   ],
   "source": [
    "sanitation_df.head(2)"
   ]
  },
  {
   "cell_type": "code",
   "execution_count": 13,
   "metadata": {
    "collapsed": false
   },
   "outputs": [
    {
     "data": {
      "text/plain": [
       "(25147, 16)"
      ]
     },
     "execution_count": 13,
     "metadata": {},
     "output_type": "execute_result"
    }
   ],
   "source": [
    "sanitation_df.shape"
   ]
  },
  {
   "cell_type": "code",
   "execution_count": 14,
   "metadata": {
    "collapsed": false
   },
   "outputs": [
    {
     "data": {
      "text/html": [
       "<div>\n",
       "<table border=\"1\" class=\"dataframe\">\n",
       "  <thead>\n",
       "    <tr style=\"text-align: right;\">\n",
       "      <th></th>\n",
       "      <th>Creation Date</th>\n",
       "      <th>Status</th>\n",
       "      <th>Completion Date</th>\n",
       "      <th>Service Request Number</th>\n",
       "      <th>Type of Service Request</th>\n",
       "      <th>What is the Nature of this Code Violation?</th>\n",
       "      <th>Street Address</th>\n",
       "      <th>ZIP Code</th>\n",
       "      <th>X Coordinate</th>\n",
       "      <th>Y Coordinate</th>\n",
       "      <th>Ward</th>\n",
       "      <th>Police District</th>\n",
       "      <th>Community Area</th>\n",
       "      <th>Latitude</th>\n",
       "      <th>Longitude</th>\n",
       "      <th>Location</th>\n",
       "    </tr>\n",
       "  </thead>\n",
       "  <tbody>\n",
       "  </tbody>\n",
       "</table>\n",
       "</div>"
      ],
      "text/plain": [
       "Empty DataFrame\n",
       "Columns: [Creation Date, Status, Completion Date, Service Request Number, Type of Service Request, What is the Nature of this Code Violation?, Street Address, ZIP Code, X Coordinate, Y Coordinate, Ward, Police District, Community Area, Latitude, Longitude, Location]\n",
       "Index: []"
      ]
     },
     "execution_count": 14,
     "metadata": {},
     "output_type": "execute_result"
    }
   ],
   "source": [
    "sanitation_df[sanitation_df['Street Address'] == '7500 S Wolcott Ave']"
   ]
  },
  {
   "cell_type": "code",
   "execution_count": 15,
   "metadata": {
    "collapsed": false
   },
   "outputs": [
    {
     "data": {
      "text/html": [
       "<div>\n",
       "<table border=\"1\" class=\"dataframe\">\n",
       "  <thead>\n",
       "    <tr style=\"text-align: right;\">\n",
       "      <th></th>\n",
       "      <th>Creation Date</th>\n",
       "      <th>Status</th>\n",
       "      <th>Completion Date</th>\n",
       "      <th>Service Request Number</th>\n",
       "      <th>Type of Service Request</th>\n",
       "      <th>What is the Nature of this Code Violation?</th>\n",
       "      <th>Street Address</th>\n",
       "      <th>ZIP Code</th>\n",
       "      <th>X Coordinate</th>\n",
       "      <th>Y Coordinate</th>\n",
       "      <th>Ward</th>\n",
       "      <th>Police District</th>\n",
       "      <th>Community Area</th>\n",
       "      <th>Latitude</th>\n",
       "      <th>Longitude</th>\n",
       "      <th>Location</th>\n",
       "    </tr>\n",
       "  </thead>\n",
       "  <tbody>\n",
       "    <tr>\n",
       "      <th>4287</th>\n",
       "      <td>04/14/2016</td>\n",
       "      <td>Completed</td>\n",
       "      <td>04/22/2016</td>\n",
       "      <td>16-02502456</td>\n",
       "      <td>Sanitation Code Violation</td>\n",
       "      <td>Garbage in alley</td>\n",
       "      <td>7500 S WOLCOTT AVE</td>\n",
       "      <td>60620.0</td>\n",
       "      <td>1.164988e+06</td>\n",
       "      <td>1.854895e+06</td>\n",
       "      <td>17.0</td>\n",
       "      <td>6.0</td>\n",
       "      <td>71.0</td>\n",
       "      <td>41.757433</td>\n",
       "      <td>-87.670907</td>\n",
       "      <td>(41.75743294325899, -87.67090742952253)</td>\n",
       "    </tr>\n",
       "  </tbody>\n",
       "</table>\n",
       "</div>"
      ],
      "text/plain": [
       "     Creation Date     Status Completion Date Service Request Number  \\\n",
       "4287    04/14/2016  Completed      04/22/2016            16-02502456   \n",
       "\n",
       "        Type of Service Request What is the Nature of this Code Violation?  \\\n",
       "4287  Sanitation Code Violation                           Garbage in alley   \n",
       "\n",
       "          Street Address  ZIP Code  X Coordinate  Y Coordinate  Ward  \\\n",
       "4287  7500 S WOLCOTT AVE   60620.0  1.164988e+06  1.854895e+06  17.0   \n",
       "\n",
       "      Police District  Community Area   Latitude  Longitude  \\\n",
       "4287              6.0            71.0  41.757433 -87.670907   \n",
       "\n",
       "                                     Location  \n",
       "4287  (41.75743294325899, -87.67090742952253)  "
      ]
     },
     "execution_count": 15,
     "metadata": {},
     "output_type": "execute_result"
    }
   ],
   "source": [
    "sanitation_df[sanitation_df['Street Address'] == '7500 S WOLCOTT AVE']"
   ]
  },
  {
   "cell_type": "markdown",
   "metadata": {},
   "source": [
    "We have found one entry, therefore there was one request which came from 7500 S Wolcott Ave. Given that the dataset contains 25147 rows, the probability that a call came from this address is:"
   ]
  },
  {
   "cell_type": "code",
   "execution_count": 17,
   "metadata": {
    "collapsed": false
   },
   "outputs": [
    {
     "data": {
      "text/plain": [
       "3.9766174891637175e-05"
      ]
     },
     "execution_count": 17,
     "metadata": {},
     "output_type": "execute_result"
    }
   ],
   "source": [
    "1/sanitation_df.shape[0]"
   ]
  },
  {
   "cell_type": "code",
   "execution_count": 18,
   "metadata": {
    "collapsed": true
   },
   "outputs": [],
   "source": [
    "# Potholes Dataset\n",
    "potholes_df = pd.read_csv('311_Service_Requests_-_Pot_Holes_Reported.csv')"
   ]
  },
  {
   "cell_type": "code",
   "execution_count": 20,
   "metadata": {
    "collapsed": false
   },
   "outputs": [
    {
     "data": {
      "text/html": [
       "<div>\n",
       "<table border=\"1\" class=\"dataframe\">\n",
       "  <thead>\n",
       "    <tr style=\"text-align: right;\">\n",
       "      <th></th>\n",
       "      <th>CREATION DATE</th>\n",
       "      <th>STATUS</th>\n",
       "      <th>COMPLETION DATE</th>\n",
       "      <th>SERVICE REQUEST NUMBER</th>\n",
       "      <th>TYPE OF SERVICE REQUEST</th>\n",
       "      <th>CURRENT ACTIVITY</th>\n",
       "      <th>MOST RECENT ACTION</th>\n",
       "      <th>NUMBER OF POTHOLES FILLED ON BLOCK</th>\n",
       "      <th>STREET ADDRESS</th>\n",
       "      <th>ZIP</th>\n",
       "      <th>X COORDINATE</th>\n",
       "      <th>Y COORDINATE</th>\n",
       "      <th>Ward</th>\n",
       "      <th>Police District</th>\n",
       "      <th>Community Area</th>\n",
       "      <th>SSA</th>\n",
       "      <th>LATITUDE</th>\n",
       "      <th>LONGITUDE</th>\n",
       "      <th>LOCATION</th>\n",
       "    </tr>\n",
       "  </thead>\n",
       "  <tbody>\n",
       "    <tr>\n",
       "      <th>0</th>\n",
       "      <td>01/02/2016</td>\n",
       "      <td>Completed - Dup</td>\n",
       "      <td>01/04/2016</td>\n",
       "      <td>16-00013207</td>\n",
       "      <td>Pothole in Street</td>\n",
       "      <td>NaN</td>\n",
       "      <td>NaN</td>\n",
       "      <td>NaN</td>\n",
       "      <td>1700 E 130TH ST</td>\n",
       "      <td>60633.0</td>\n",
       "      <td>1.188692e+06</td>\n",
       "      <td>1.819603e+06</td>\n",
       "      <td>10.0</td>\n",
       "      <td>4.0</td>\n",
       "      <td>51.0</td>\n",
       "      <td>NaN</td>\n",
       "      <td>41.660126</td>\n",
       "      <td>-87.585015</td>\n",
       "      <td>(41.66012576202311, -87.58501516002178)</td>\n",
       "    </tr>\n",
       "    <tr>\n",
       "      <th>1</th>\n",
       "      <td>01/02/2016</td>\n",
       "      <td>Completed - Dup</td>\n",
       "      <td>01/04/2016</td>\n",
       "      <td>16-00018079</td>\n",
       "      <td>Pothole in Street</td>\n",
       "      <td>NaN</td>\n",
       "      <td>NaN</td>\n",
       "      <td>NaN</td>\n",
       "      <td>6826 W GRAND AVE</td>\n",
       "      <td>60707.0</td>\n",
       "      <td>1.130387e+06</td>\n",
       "      <td>1.915203e+06</td>\n",
       "      <td>36.0</td>\n",
       "      <td>25.0</td>\n",
       "      <td>18.0</td>\n",
       "      <td>NaN</td>\n",
       "      <td>41.923699</td>\n",
       "      <td>-87.796327</td>\n",
       "      <td>(41.92369912420517, -87.79632671494232)</td>\n",
       "    </tr>\n",
       "  </tbody>\n",
       "</table>\n",
       "</div>"
      ],
      "text/plain": [
       "  CREATION DATE           STATUS COMPLETION DATE SERVICE REQUEST NUMBER  \\\n",
       "0    01/02/2016  Completed - Dup      01/04/2016            16-00013207   \n",
       "1    01/02/2016  Completed - Dup      01/04/2016            16-00018079   \n",
       "\n",
       "  TYPE OF SERVICE REQUEST CURRENT ACTIVITY MOST RECENT ACTION  \\\n",
       "0       Pothole in Street              NaN                NaN   \n",
       "1       Pothole in Street              NaN                NaN   \n",
       "\n",
       "   NUMBER OF POTHOLES FILLED ON BLOCK    STREET ADDRESS      ZIP  \\\n",
       "0                                 NaN   1700 E 130TH ST  60633.0   \n",
       "1                                 NaN  6826 W GRAND AVE  60707.0   \n",
       "\n",
       "   X COORDINATE  Y COORDINATE  Ward  Police District  Community Area  SSA  \\\n",
       "0  1.188692e+06  1.819603e+06  10.0              4.0            51.0  NaN   \n",
       "1  1.130387e+06  1.915203e+06  36.0             25.0            18.0  NaN   \n",
       "\n",
       "    LATITUDE  LONGITUDE                                 LOCATION  \n",
       "0  41.660126 -87.585015  (41.66012576202311, -87.58501516002178)  \n",
       "1  41.923699 -87.796327  (41.92369912420517, -87.79632671494232)  "
      ]
     },
     "execution_count": 20,
     "metadata": {},
     "output_type": "execute_result"
    }
   ],
   "source": [
    "potholes_df.head(2)"
   ]
  },
  {
   "cell_type": "code",
   "execution_count": 21,
   "metadata": {
    "collapsed": false
   },
   "outputs": [
    {
     "data": {
      "text/plain": [
       "(71953, 19)"
      ]
     },
     "execution_count": 21,
     "metadata": {},
     "output_type": "execute_result"
    }
   ],
   "source": [
    "potholes_df.shape"
   ]
  },
  {
   "cell_type": "code",
   "execution_count": 22,
   "metadata": {
    "collapsed": false
   },
   "outputs": [
    {
     "data": {
      "text/html": [
       "<div>\n",
       "<table border=\"1\" class=\"dataframe\">\n",
       "  <thead>\n",
       "    <tr style=\"text-align: right;\">\n",
       "      <th></th>\n",
       "      <th>CREATION DATE</th>\n",
       "      <th>STATUS</th>\n",
       "      <th>COMPLETION DATE</th>\n",
       "      <th>SERVICE REQUEST NUMBER</th>\n",
       "      <th>TYPE OF SERVICE REQUEST</th>\n",
       "      <th>CURRENT ACTIVITY</th>\n",
       "      <th>MOST RECENT ACTION</th>\n",
       "      <th>NUMBER OF POTHOLES FILLED ON BLOCK</th>\n",
       "      <th>STREET ADDRESS</th>\n",
       "      <th>ZIP</th>\n",
       "      <th>X COORDINATE</th>\n",
       "      <th>Y COORDINATE</th>\n",
       "      <th>Ward</th>\n",
       "      <th>Police District</th>\n",
       "      <th>Community Area</th>\n",
       "      <th>SSA</th>\n",
       "      <th>LATITUDE</th>\n",
       "      <th>LONGITUDE</th>\n",
       "      <th>LOCATION</th>\n",
       "    </tr>\n",
       "  </thead>\n",
       "  <tbody>\n",
       "  </tbody>\n",
       "</table>\n",
       "</div>"
      ],
      "text/plain": [
       "Empty DataFrame\n",
       "Columns: [CREATION DATE, STATUS, COMPLETION DATE, SERVICE REQUEST NUMBER, TYPE OF SERVICE REQUEST, CURRENT ACTIVITY, MOST RECENT ACTION, NUMBER OF POTHOLES FILLED ON BLOCK, STREET ADDRESS, ZIP, X COORDINATE, Y COORDINATE, Ward, Police District, Community Area, SSA, LATITUDE, LONGITUDE, LOCATION]\n",
       "Index: []"
      ]
     },
     "execution_count": 22,
     "metadata": {},
     "output_type": "execute_result"
    }
   ],
   "source": [
    "potholes_df[potholes_df['STREET ADDRESS'] == '7500 S Wolcott Ave']"
   ]
  },
  {
   "cell_type": "code",
   "execution_count": 23,
   "metadata": {
    "collapsed": false
   },
   "outputs": [
    {
     "data": {
      "text/html": [
       "<div>\n",
       "<table border=\"1\" class=\"dataframe\">\n",
       "  <thead>\n",
       "    <tr style=\"text-align: right;\">\n",
       "      <th></th>\n",
       "      <th>CREATION DATE</th>\n",
       "      <th>STATUS</th>\n",
       "      <th>COMPLETION DATE</th>\n",
       "      <th>SERVICE REQUEST NUMBER</th>\n",
       "      <th>TYPE OF SERVICE REQUEST</th>\n",
       "      <th>CURRENT ACTIVITY</th>\n",
       "      <th>MOST RECENT ACTION</th>\n",
       "      <th>NUMBER OF POTHOLES FILLED ON BLOCK</th>\n",
       "      <th>STREET ADDRESS</th>\n",
       "      <th>ZIP</th>\n",
       "      <th>X COORDINATE</th>\n",
       "      <th>Y COORDINATE</th>\n",
       "      <th>Ward</th>\n",
       "      <th>Police District</th>\n",
       "      <th>Community Area</th>\n",
       "      <th>SSA</th>\n",
       "      <th>LATITUDE</th>\n",
       "      <th>LONGITUDE</th>\n",
       "      <th>LOCATION</th>\n",
       "    </tr>\n",
       "  </thead>\n",
       "  <tbody>\n",
       "    <tr>\n",
       "      <th>23363</th>\n",
       "      <td>05/02/2016</td>\n",
       "      <td>Completed</td>\n",
       "      <td>07/12/2016</td>\n",
       "      <td>16-03005208</td>\n",
       "      <td>Pothole in Street</td>\n",
       "      <td>Final Outcome</td>\n",
       "      <td>Pothole Patched</td>\n",
       "      <td>3.0</td>\n",
       "      <td>7500 S WOLCOTT AVE</td>\n",
       "      <td>60620.0</td>\n",
       "      <td>1.164988e+06</td>\n",
       "      <td>1.854895e+06</td>\n",
       "      <td>17.0</td>\n",
       "      <td>6.0</td>\n",
       "      <td>71.0</td>\n",
       "      <td>NaN</td>\n",
       "      <td>41.757345</td>\n",
       "      <td>-87.671052</td>\n",
       "      <td>(41.75734524032, -87.67105156625242)</td>\n",
       "    </tr>\n",
       "  </tbody>\n",
       "</table>\n",
       "</div>"
      ],
      "text/plain": [
       "      CREATION DATE     STATUS COMPLETION DATE SERVICE REQUEST NUMBER  \\\n",
       "23363    05/02/2016  Completed      07/12/2016            16-03005208   \n",
       "\n",
       "      TYPE OF SERVICE REQUEST CURRENT ACTIVITY MOST RECENT ACTION  \\\n",
       "23363       Pothole in Street    Final Outcome    Pothole Patched   \n",
       "\n",
       "       NUMBER OF POTHOLES FILLED ON BLOCK      STREET ADDRESS      ZIP  \\\n",
       "23363                                 3.0  7500 S WOLCOTT AVE  60620.0   \n",
       "\n",
       "       X COORDINATE  Y COORDINATE  Ward  Police District  Community Area  SSA  \\\n",
       "23363  1.164988e+06  1.854895e+06  17.0              6.0            71.0  NaN   \n",
       "\n",
       "        LATITUDE  LONGITUDE                              LOCATION  \n",
       "23363  41.757345 -87.671052  (41.75734524032, -87.67105156625242)  "
      ]
     },
     "execution_count": 23,
     "metadata": {},
     "output_type": "execute_result"
    }
   ],
   "source": [
    "potholes_df[potholes_df['STREET ADDRESS'] == '7500 S WOLCOTT AVE']"
   ]
  },
  {
   "cell_type": "markdown",
   "metadata": {},
   "source": [
    "By the same logic as above, given that there is only one entry, and assuming equal probabilities, we find that:"
   ]
  },
  {
   "cell_type": "code",
   "execution_count": 24,
   "metadata": {
    "collapsed": false
   },
   "outputs": [
    {
     "data": {
      "text/plain": [
       "1.3897961169096494e-05"
      ]
     },
     "execution_count": 24,
     "metadata": {},
     "output_type": "execute_result"
    }
   ],
   "source": [
    "1/potholes_df.shape[0]"
   ]
  },
  {
   "cell_type": "code",
   "execution_count": 25,
   "metadata": {
    "collapsed": true
   },
   "outputs": [],
   "source": [
    "# Vacant building datasets\n",
    "vacant_df = pd.read_csv('311_Service_Requests_-_Vacant_and_Abandoned_Buildings_Reported.csv')"
   ]
  },
  {
   "cell_type": "code",
   "execution_count": 26,
   "metadata": {
    "collapsed": false
   },
   "outputs": [
    {
     "data": {
      "text/html": [
       "<div>\n",
       "<table border=\"1\" class=\"dataframe\">\n",
       "  <thead>\n",
       "    <tr style=\"text-align: right;\">\n",
       "      <th></th>\n",
       "      <th>SERVICE REQUEST TYPE</th>\n",
       "      <th>SERVICE REQUEST NUMBER</th>\n",
       "      <th>DATE SERVICE REQUEST WAS RECEIVED</th>\n",
       "      <th>LOCATION OF BUILDING ON THE LOT (IF GARAGE, CHANGE TYPE CODE TO BGD).</th>\n",
       "      <th>IS THE BUILDING DANGEROUS OR HAZARDOUS?</th>\n",
       "      <th>IS BUILDING OPEN OR BOARDED?</th>\n",
       "      <th>IF THE BUILDING IS OPEN, WHERE IS THE ENTRY POINT?</th>\n",
       "      <th>IS THE BUILDING CURRENTLY VACANT OR OCCUPIED?</th>\n",
       "      <th>IS THE BUILDING VACANT DUE TO FIRE?</th>\n",
       "      <th>ANY PEOPLE USING PROPERTY? (HOMELESS, CHILDEN, GANGS)</th>\n",
       "      <th>...</th>\n",
       "      <th>ADDRESS STREET SUFFIX</th>\n",
       "      <th>ZIP CODE</th>\n",
       "      <th>X COORDINATE</th>\n",
       "      <th>Y COORDINATE</th>\n",
       "      <th>Ward</th>\n",
       "      <th>Police District</th>\n",
       "      <th>Community Area</th>\n",
       "      <th>LATITUDE</th>\n",
       "      <th>LONGITUDE</th>\n",
       "      <th>Location</th>\n",
       "    </tr>\n",
       "  </thead>\n",
       "  <tbody>\n",
       "    <tr>\n",
       "      <th>0</th>\n",
       "      <td>Vacant/Abandoned Building</td>\n",
       "      <td>16-00017936</td>\n",
       "      <td>01/02/2016</td>\n",
       "      <td>Front</td>\n",
       "      <td>NaN</td>\n",
       "      <td>Open</td>\n",
       "      <td>FRONT-SIDE AND REAR</td>\n",
       "      <td>Vacant</td>\n",
       "      <td>False</td>\n",
       "      <td>True</td>\n",
       "      <td>...</td>\n",
       "      <td>ST</td>\n",
       "      <td>60621.0</td>\n",
       "      <td>1.170327e+06</td>\n",
       "      <td>1.865488e+06</td>\n",
       "      <td>16.0</td>\n",
       "      <td>7.0</td>\n",
       "      <td>68.0</td>\n",
       "      <td>41.786386</td>\n",
       "      <td>-87.651033</td>\n",
       "      <td>(41.78638640364335, -87.65103294840148)</td>\n",
       "    </tr>\n",
       "    <tr>\n",
       "      <th>1</th>\n",
       "      <td>Vacant/Abandoned Building</td>\n",
       "      <td>16-00027497</td>\n",
       "      <td>01/03/2016</td>\n",
       "      <td>Front</td>\n",
       "      <td>NaN</td>\n",
       "      <td>Open</td>\n",
       "      <td>NaN</td>\n",
       "      <td>Vacant</td>\n",
       "      <td>False</td>\n",
       "      <td>False</td>\n",
       "      <td>...</td>\n",
       "      <td>ST</td>\n",
       "      <td>60629.0</td>\n",
       "      <td>1.153522e+06</td>\n",
       "      <td>1.862608e+06</td>\n",
       "      <td>23.0</td>\n",
       "      <td>8.0</td>\n",
       "      <td>66.0</td>\n",
       "      <td>41.778832</td>\n",
       "      <td>-87.712726</td>\n",
       "      <td>(41.778832091928, -87.7127256067861)</td>\n",
       "    </tr>\n",
       "  </tbody>\n",
       "</table>\n",
       "<p>2 rows × 23 columns</p>\n",
       "</div>"
      ],
      "text/plain": [
       "        SERVICE REQUEST TYPE SERVICE REQUEST NUMBER  \\\n",
       "0  Vacant/Abandoned Building            16-00017936   \n",
       "1  Vacant/Abandoned Building            16-00027497   \n",
       "\n",
       "  DATE SERVICE REQUEST WAS RECEIVED  \\\n",
       "0                        01/02/2016   \n",
       "1                        01/03/2016   \n",
       "\n",
       "  LOCATION OF BUILDING ON THE LOT (IF GARAGE, CHANGE TYPE CODE TO BGD).  \\\n",
       "0                                              Front                      \n",
       "1                                              Front                      \n",
       "\n",
       "   IS THE BUILDING DANGEROUS OR HAZARDOUS? IS BUILDING OPEN OR BOARDED?  \\\n",
       "0                                      NaN                         Open   \n",
       "1                                      NaN                         Open   \n",
       "\n",
       "  IF THE BUILDING IS OPEN, WHERE IS THE ENTRY POINT?  \\\n",
       "0                                FRONT-SIDE AND REAR   \n",
       "1                                                NaN   \n",
       "\n",
       "  IS THE BUILDING CURRENTLY VACANT OR OCCUPIED?  \\\n",
       "0                                        Vacant   \n",
       "1                                        Vacant   \n",
       "\n",
       "  IS THE BUILDING VACANT DUE TO FIRE?  \\\n",
       "0                               False   \n",
       "1                               False   \n",
       "\n",
       "  ANY PEOPLE USING PROPERTY? (HOMELESS, CHILDEN, GANGS)  \\\n",
       "0                                               True      \n",
       "1                                              False      \n",
       "\n",
       "                    ...                     ADDRESS STREET SUFFIX ZIP CODE  \\\n",
       "0                   ...                                        ST  60621.0   \n",
       "1                   ...                                        ST  60629.0   \n",
       "\n",
       "   X COORDINATE  Y COORDINATE  Ward  Police District  Community Area  \\\n",
       "0  1.170327e+06  1.865488e+06  16.0              7.0            68.0   \n",
       "1  1.153522e+06  1.862608e+06  23.0              8.0            66.0   \n",
       "\n",
       "    LATITUDE  LONGITUDE                                 Location  \n",
       "0  41.786386 -87.651033  (41.78638640364335, -87.65103294840148)  \n",
       "1  41.778832 -87.712726     (41.778832091928, -87.7127256067861)  \n",
       "\n",
       "[2 rows x 23 columns]"
      ]
     },
     "execution_count": 26,
     "metadata": {},
     "output_type": "execute_result"
    }
   ],
   "source": [
    "vacant_df.head(2)"
   ]
  },
  {
   "cell_type": "code",
   "execution_count": 27,
   "metadata": {
    "collapsed": false
   },
   "outputs": [
    {
     "data": {
      "text/plain": [
       "(5564, 23)"
      ]
     },
     "execution_count": 27,
     "metadata": {},
     "output_type": "execute_result"
    }
   ],
   "source": [
    "vacant_df.shape"
   ]
  },
  {
   "cell_type": "code",
   "execution_count": 28,
   "metadata": {
    "collapsed": false
   },
   "outputs": [
    {
     "data": {
      "text/plain": [
       "Index(['SERVICE REQUEST TYPE', 'SERVICE REQUEST NUMBER',\n",
       "       'DATE SERVICE REQUEST WAS RECEIVED',\n",
       "       'LOCATION OF BUILDING ON THE LOT (IF GARAGE, CHANGE TYPE CODE TO BGD).',\n",
       "       'IS THE BUILDING DANGEROUS OR HAZARDOUS?',\n",
       "       'IS BUILDING OPEN OR BOARDED?',\n",
       "       'IF THE BUILDING IS OPEN, WHERE IS THE ENTRY POINT?',\n",
       "       'IS THE BUILDING CURRENTLY VACANT OR OCCUPIED?',\n",
       "       'IS THE BUILDING VACANT DUE TO FIRE?',\n",
       "       'ANY PEOPLE USING PROPERTY? (HOMELESS, CHILDEN, GANGS)',\n",
       "       'ADDRESS STREET NUMBER', 'ADDRESS STREET DIRECTION',\n",
       "       'ADDRESS STREET NAME', 'ADDRESS STREET SUFFIX', 'ZIP CODE',\n",
       "       'X COORDINATE', 'Y COORDINATE', 'Ward', 'Police District',\n",
       "       'Community Area', 'LATITUDE', 'LONGITUDE', 'Location'],\n",
       "      dtype='object')"
      ]
     },
     "execution_count": 28,
     "metadata": {},
     "output_type": "execute_result"
    }
   ],
   "source": [
    "vacant_df.columns"
   ]
  },
  {
   "cell_type": "markdown",
   "metadata": {},
   "source": [
    "Given that there's no columns for street address, we'll isolate it by number first. "
   ]
  },
  {
   "cell_type": "code",
   "execution_count": 30,
   "metadata": {
    "collapsed": false
   },
   "outputs": [
    {
     "data": {
      "text/html": [
       "<div>\n",
       "<table border=\"1\" class=\"dataframe\">\n",
       "  <thead>\n",
       "    <tr style=\"text-align: right;\">\n",
       "      <th></th>\n",
       "      <th>SERVICE REQUEST TYPE</th>\n",
       "      <th>SERVICE REQUEST NUMBER</th>\n",
       "      <th>DATE SERVICE REQUEST WAS RECEIVED</th>\n",
       "      <th>LOCATION OF BUILDING ON THE LOT (IF GARAGE, CHANGE TYPE CODE TO BGD).</th>\n",
       "      <th>IS THE BUILDING DANGEROUS OR HAZARDOUS?</th>\n",
       "      <th>IS BUILDING OPEN OR BOARDED?</th>\n",
       "      <th>IF THE BUILDING IS OPEN, WHERE IS THE ENTRY POINT?</th>\n",
       "      <th>IS THE BUILDING CURRENTLY VACANT OR OCCUPIED?</th>\n",
       "      <th>IS THE BUILDING VACANT DUE TO FIRE?</th>\n",
       "      <th>ANY PEOPLE USING PROPERTY? (HOMELESS, CHILDEN, GANGS)</th>\n",
       "      <th>...</th>\n",
       "      <th>ADDRESS STREET SUFFIX</th>\n",
       "      <th>ZIP CODE</th>\n",
       "      <th>X COORDINATE</th>\n",
       "      <th>Y COORDINATE</th>\n",
       "      <th>Ward</th>\n",
       "      <th>Police District</th>\n",
       "      <th>Community Area</th>\n",
       "      <th>LATITUDE</th>\n",
       "      <th>LONGITUDE</th>\n",
       "      <th>Location</th>\n",
       "    </tr>\n",
       "  </thead>\n",
       "  <tbody>\n",
       "    <tr>\n",
       "      <th>453</th>\n",
       "      <td>Vacant/Abandoned Building</td>\n",
       "      <td>16-01222606</td>\n",
       "      <td>02/29/2016</td>\n",
       "      <td>NaN</td>\n",
       "      <td>NaN</td>\n",
       "      <td>NaN</td>\n",
       "      <td>NaN</td>\n",
       "      <td>NaN</td>\n",
       "      <td>NaN</td>\n",
       "      <td>NaN</td>\n",
       "      <td>...</td>\n",
       "      <td>DR</td>\n",
       "      <td>60619.0</td>\n",
       "      <td>1.180207e+06</td>\n",
       "      <td>1.855373e+06</td>\n",
       "      <td>6.0</td>\n",
       "      <td>6.0</td>\n",
       "      <td>69.0</td>\n",
       "      <td>41.758408</td>\n",
       "      <td>-87.61512</td>\n",
       "      <td>(41.75840759130991, -87.61512035710996)</td>\n",
       "    </tr>\n",
       "  </tbody>\n",
       "</table>\n",
       "<p>1 rows × 23 columns</p>\n",
       "</div>"
      ],
      "text/plain": [
       "          SERVICE REQUEST TYPE SERVICE REQUEST NUMBER  \\\n",
       "453  Vacant/Abandoned Building            16-01222606   \n",
       "\n",
       "    DATE SERVICE REQUEST WAS RECEIVED  \\\n",
       "453                        02/29/2016   \n",
       "\n",
       "    LOCATION OF BUILDING ON THE LOT (IF GARAGE, CHANGE TYPE CODE TO BGD).  \\\n",
       "453                                                NaN                      \n",
       "\n",
       "     IS THE BUILDING DANGEROUS OR HAZARDOUS? IS BUILDING OPEN OR BOARDED?  \\\n",
       "453                                      NaN                          NaN   \n",
       "\n",
       "    IF THE BUILDING IS OPEN, WHERE IS THE ENTRY POINT?  \\\n",
       "453                                                NaN   \n",
       "\n",
       "    IS THE BUILDING CURRENTLY VACANT OR OCCUPIED?  \\\n",
       "453                                           NaN   \n",
       "\n",
       "    IS THE BUILDING VACANT DUE TO FIRE?  \\\n",
       "453                                 NaN   \n",
       "\n",
       "    ANY PEOPLE USING PROPERTY? (HOMELESS, CHILDEN, GANGS)  \\\n",
       "453                                                NaN      \n",
       "\n",
       "                      ...                     ADDRESS STREET SUFFIX ZIP CODE  \\\n",
       "453                   ...                                        DR  60619.0   \n",
       "\n",
       "     X COORDINATE  Y COORDINATE  Ward  Police District  Community Area  \\\n",
       "453  1.180207e+06  1.855373e+06   6.0              6.0            69.0   \n",
       "\n",
       "      LATITUDE  LONGITUDE                                 Location  \n",
       "453  41.758408  -87.61512  (41.75840759130991, -87.61512035710996)  \n",
       "\n",
       "[1 rows x 23 columns]"
      ]
     },
     "execution_count": 30,
     "metadata": {},
     "output_type": "execute_result"
    }
   ],
   "source": [
    "vacant_df[vacant_df['ADDRESS STREET NUMBER'] == 7500]"
   ]
  },
  {
   "cell_type": "code",
   "execution_count": 31,
   "metadata": {
    "collapsed": false
   },
   "outputs": [
    {
     "data": {
      "text/plain": [
       "SERVICE REQUEST TYPE                                                                   Vacant/Abandoned Building\n",
       "SERVICE REQUEST NUMBER                                                                               16-01222606\n",
       "DATE SERVICE REQUEST WAS RECEIVED                                                                     02/29/2016\n",
       "LOCATION OF BUILDING ON THE LOT (IF GARAGE, CHANGE TYPE CODE TO BGD).                                        NaN\n",
       "IS THE BUILDING DANGEROUS OR HAZARDOUS?                                                                      NaN\n",
       "IS BUILDING OPEN OR BOARDED?                                                                                 NaN\n",
       "IF THE BUILDING IS OPEN, WHERE IS THE ENTRY POINT?                                                           NaN\n",
       "IS THE BUILDING CURRENTLY VACANT OR OCCUPIED?                                                                NaN\n",
       "IS THE BUILDING VACANT DUE TO FIRE?                                                                          NaN\n",
       "ANY PEOPLE USING PROPERTY? (HOMELESS, CHILDEN, GANGS)                                                        NaN\n",
       "ADDRESS STREET NUMBER                                                                                       7500\n",
       "ADDRESS STREET DIRECTION                                                                                       S\n",
       "ADDRESS STREET NAME                                                                     DR MARTIN LUTHER KING JR\n",
       "ADDRESS STREET SUFFIX                                                                                         DR\n",
       "ZIP CODE                                                                                                   60619\n",
       "X COORDINATE                                                                                         1.18021e+06\n",
       "Y COORDINATE                                                                                         1.85537e+06\n",
       "Ward                                                                                                           6\n",
       "Police District                                                                                                6\n",
       "Community Area                                                                                                69\n",
       "LATITUDE                                                                                                 41.7584\n",
       "LONGITUDE                                                                                               -87.6151\n",
       "Location                                                                 (41.75840759130991, -87.61512035710996)\n",
       "Name: 453, dtype: object"
      ]
     },
     "execution_count": 31,
     "metadata": {},
     "output_type": "execute_result"
    }
   ],
   "source": [
    "vacant_df.loc[453]"
   ]
  },
  {
   "cell_type": "markdown",
   "metadata": {},
   "source": [
    "This does not correspond to our address, so we can conclude the address does not appear in this dataset. Therefore, the probability that a phone call about vacant buildings came from this address is 0. "
   ]
  },
  {
   "cell_type": "markdown",
   "metadata": {},
   "source": [
    "## Part b"
   ]
  },
  {
   "cell_type": "markdown",
   "metadata": {},
   "source": [
    "Given that there's only two neighbourhoods, a quick google search gives us the required ZIP Codes. \n",
    "Uptown zip codes are 60613, 60640.\n",
    "Lawndale zip codes are 60608, 60623, 60624."
   ]
  },
  {
   "cell_type": "code",
   "execution_count": 32,
   "metadata": {
    "collapsed": false
   },
   "outputs": [
    {
     "data": {
      "text/plain": [
       "(1517, 18)"
      ]
     },
     "execution_count": 32,
     "metadata": {},
     "output_type": "execute_result"
    }
   ],
   "source": [
    "# Uptown\n",
    "graffity_df[graffity_df[\"ZIP Code\"] == 60613.0].shape"
   ]
  },
  {
   "cell_type": "code",
   "execution_count": 34,
   "metadata": {
    "collapsed": false
   },
   "outputs": [
    {
     "data": {
      "text/plain": [
       "(1450, 18)"
      ]
     },
     "execution_count": 34,
     "metadata": {},
     "output_type": "execute_result"
    }
   ],
   "source": [
    "graffity_df[graffity_df[\"ZIP Code\"] == 60640.0].shape"
   ]
  },
  {
   "cell_type": "code",
   "execution_count": 35,
   "metadata": {
    "collapsed": false
   },
   "outputs": [
    {
     "data": {
      "text/plain": [
       "(63386, 18)"
      ]
     },
     "execution_count": 35,
     "metadata": {},
     "output_type": "execute_result"
    }
   ],
   "source": [
    "graffity_df.shape"
   ]
  },
  {
   "cell_type": "markdown",
   "metadata": {},
   "source": [
    "There's a 4.7% chance that the call came from Uptown"
   ]
  },
  {
   "cell_type": "code",
   "execution_count": 36,
   "metadata": {
    "collapsed": false
   },
   "outputs": [
    {
     "data": {
      "text/plain": [
       "4.680844350487489"
      ]
     },
     "execution_count": 36,
     "metadata": {},
     "output_type": "execute_result"
    }
   ],
   "source": [
    "((1517 + 1450)/63386) * 100"
   ]
  },
  {
   "cell_type": "code",
   "execution_count": 37,
   "metadata": {
    "collapsed": false
   },
   "outputs": [
    {
     "data": {
      "text/plain": [
       "(4881, 18)"
      ]
     },
     "execution_count": 37,
     "metadata": {},
     "output_type": "execute_result"
    }
   ],
   "source": [
    "# Lawndale \n",
    "graffity_df[graffity_df[\"ZIP Code\"] == 60608.0].shape"
   ]
  },
  {
   "cell_type": "code",
   "execution_count": 38,
   "metadata": {
    "collapsed": false
   },
   "outputs": [
    {
     "data": {
      "text/plain": [
       "(2896, 18)"
      ]
     },
     "execution_count": 38,
     "metadata": {},
     "output_type": "execute_result"
    }
   ],
   "source": [
    "graffity_df[graffity_df[\"ZIP Code\"] == 60623.0].shape"
   ]
  },
  {
   "cell_type": "code",
   "execution_count": 39,
   "metadata": {
    "collapsed": false
   },
   "outputs": [
    {
     "data": {
      "text/plain": [
       "(238, 18)"
      ]
     },
     "execution_count": 39,
     "metadata": {},
     "output_type": "execute_result"
    }
   ],
   "source": [
    "graffity_df[graffity_df[\"ZIP Code\"] == 60624.0].shape"
   ]
  },
  {
   "cell_type": "markdown",
   "metadata": {},
   "source": [
    "There's 12.6% chance that the call came from Lawndale"
   ]
  },
  {
   "cell_type": "code",
   "execution_count": 40,
   "metadata": {
    "collapsed": false
   },
   "outputs": [
    {
     "data": {
      "text/plain": [
       "12.64474805162023"
      ]
     },
     "execution_count": 40,
     "metadata": {},
     "output_type": "execute_result"
    }
   ],
   "source": [
    "((4881 + 2896 + 238)/63386) * 100"
   ]
  },
  {
   "cell_type": "markdown",
   "metadata": {},
   "source": [
    "## Part c"
   ]
  },
  {
   "cell_type": "markdown",
   "metadata": {},
   "source": [
    "Now assume that you don’t have access to all the raw data and you know the following things:\n",
    "There are a total of 1000 calls, 600 from Englewood and 400 from Uptown. Of the 600 calls from Englewood, 100 of them are about Graffiti Removal. Of the 400 calls from Uptown, 160 are about Graffiti Removal. If a call comes about Graffiti Removal, how much more/less likely is it that the call came from Englewood versus Uptown?\n"
   ]
  },
  {
   "cell_type": "markdown",
   "metadata": {},
   "source": [
    "This is a conditional probability problem. Basically, we must compare P(Englewood|Graffiti) and P(Uptown|Graffiti). "
   ]
  },
  {
   "cell_type": "code",
   "execution_count": 43,
   "metadata": {
    "collapsed": true
   },
   "outputs": [],
   "source": [
    "# We have: \n",
    "englewood_probability = 600/1000\n",
    "uptown_probability = 400/1000\n",
    "\n",
    "englewood_graff = 100/600\n",
    "englewood_other = 500/600\n",
    "\n",
    "uptown_graff = 160/400\n",
    "uptown_other = 240/400"
   ]
  },
  {
   "cell_type": "code",
   "execution_count": 44,
   "metadata": {
    "collapsed": false
   },
   "outputs": [],
   "source": [
    "# total probability that it was a graffiti is\n",
    "graff_prob = (englewood_probability * englewood_graff) + (uptown_probability * uptown_graff)"
   ]
  },
  {
   "cell_type": "code",
   "execution_count": 45,
   "metadata": {
    "collapsed": false
   },
   "outputs": [
    {
     "data": {
      "text/plain": [
       "0.3846153846153846"
      ]
     },
     "execution_count": 45,
     "metadata": {},
     "output_type": "execute_result"
    }
   ],
   "source": [
    "# probability that it was Englewood given that it was a graffiti call\n",
    "(englewood_probability * englewood_graff) / graff_prob"
   ]
  },
  {
   "cell_type": "code",
   "execution_count": 46,
   "metadata": {
    "collapsed": false
   },
   "outputs": [
    {
     "data": {
      "text/plain": [
       "0.6153846153846155"
      ]
     },
     "execution_count": 46,
     "metadata": {},
     "output_type": "execute_result"
    }
   ],
   "source": [
    "# probability that it was Uptown given that it was a graffiti call \n",
    "(uptown_probability * uptown_graff) / graff_prob"
   ]
  },
  {
   "cell_type": "markdown",
   "metadata": {},
   "source": [
    "It is more likely that the call came from Uptown"
   ]
  },
  {
   "cell_type": "code",
   "execution_count": null,
   "metadata": {
    "collapsed": true
   },
   "outputs": [],
   "source": []
  }
 ],
 "metadata": {
  "kernelspec": {
   "display_name": "Python 3",
   "language": "python",
   "name": "python3"
  },
  "language_info": {
   "codemirror_mode": {
    "name": "ipython",
    "version": 3
   },
   "file_extension": ".py",
   "mimetype": "text/x-python",
   "name": "python",
   "nbconvert_exporter": "python",
   "pygments_lexer": "ipython3",
   "version": "3.6.0"
  }
 },
 "nbformat": 4,
 "nbformat_minor": 2
}
